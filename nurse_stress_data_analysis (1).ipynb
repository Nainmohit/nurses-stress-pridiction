{
  "nbformat": 4,
  "nbformat_minor": 0,
  "metadata": {
    "colab": {
      "provenance": []
    },
    "kernelspec": {
      "name": "python3",
      "display_name": "Python 3"
    },
    "language_info": {
      "name": "python"
    }
  },
  "cells": [
    {
      "cell_type": "code",
      "execution_count": 1,
      "metadata": {
        "id": "CHEpiayWbUza"
      },
      "outputs": [],
      "source": [
        "import numpy as np\n",
        "import pandas as pd\n",
        "import matplotlib.pyplot as plt\n"
      ]
    },
    {
      "cell_type": "code",
      "source": [
        "!pip install ruptures"
      ],
      "metadata": {
        "colab": {
          "base_uri": "https://localhost:8080/"
        },
        "id": "fADLZ0zgbuuO",
        "outputId": "4e80b898-a20e-46b3-a658-1617bf3f2c50"
      },
      "execution_count": 3,
      "outputs": [
        {
          "output_type": "stream",
          "name": "stdout",
          "text": [
            "Looking in indexes: https://pypi.org/simple, https://us-python.pkg.dev/colab-wheels/public/simple/\n",
            "Collecting ruptures\n",
            "  Downloading ruptures-1.1.7-cp39-cp39-manylinux_2_17_x86_64.manylinux2014_x86_64.whl (1.0 MB)\n",
            "\u001b[2K     \u001b[90m━━━━━━━━━━━━━━━━━━━━━━━━━━━━━━━━━━━━━━━━\u001b[0m \u001b[32m1.0/1.0 MB\u001b[0m \u001b[31m51.0 MB/s\u001b[0m eta \u001b[36m0:00:00\u001b[0m\n",
            "\u001b[?25hRequirement already satisfied: numpy in /usr/local/lib/python3.9/dist-packages (from ruptures) (1.22.4)\n",
            "Requirement already satisfied: scipy in /usr/local/lib/python3.9/dist-packages (from ruptures) (1.10.1)\n",
            "Installing collected packages: ruptures\n",
            "Successfully installed ruptures-1.1.7\n"
          ]
        }
      ]
    },
    {
      "cell_type": "code",
      "source": [
        "from sklearn.preprocessing import MinMaxScaler, OneHotEncoder\n",
        "from sklearn.model_selection import train_test_split\n",
        "from sklearn.feature_selection import SelectFromModel\n",
        "from sklearn.naive_bayes import GaussianNB\n",
        "from sklearn.ensemble import RandomForestClassifier\n",
        "from sklearn.metrics import accuracy_score, f1_score, precision_score, recall_score, classification_report, confusion_matrix\n",
        "\n",
        "import ruptures as rpt"
      ],
      "metadata": {
        "id": "JYxA9kfLbp2S"
      },
      "execution_count": 4,
      "outputs": []
    },
    {
      "cell_type": "code",
      "source": [
        "from scipy.stats import kurtosis, skew\n",
        "from scipy.signal import find_peaks"
      ],
      "metadata": {
        "id": "xFwTCVpCbruF"
      },
      "execution_count": 5,
      "outputs": []
    },
    {
      "cell_type": "code",
      "source": [
        "import os\n",
        "from datetime import date, datetime, timedelta"
      ],
      "metadata": {
        "id": "jL0rhfALb1QE"
      },
      "execution_count": 6,
      "outputs": []
    },
    {
      "cell_type": "code",
      "source": [
        "def statistical_features(arr):\n",
        "    vmin = np.amin(arr)\n",
        "    vmax = np.amax(arr)\n",
        "    mean = np.mean(arr)\n",
        "    std = np.std(arr)\n",
        "    return vmin, vmax, mean, std\n",
        "\n",
        "def shape_features(arr):\n",
        "    skewness = skew(arr)\n",
        "    kurt = kurtosis(arr)\n",
        "    return skewness, kurt"
      ],
      "metadata": {
        "id": "VHnbea1Mb3u8"
      },
      "execution_count": 7,
      "outputs": []
    },
    {
      "cell_type": "code",
      "source": [
        "stress_data = pd.read_csv('/content/combined_lagEDA.csv')\n",
        "stress_data_train = stress_data.iloc[:,0:48]\n",
        "labels = stress_data.iloc[:,48:49]\n",
        "\n"
      ],
      "metadata": {
        "id": "7SJQn8mGb6Cx"
      },
      "execution_count": 8,
      "outputs": []
    },
    {
      "cell_type": "code",
      "source": [
        "#Create a random forest Classifier\n",
        "random = RandomForestClassifier(n_estimators=100,max_depth=15)\n",
        "\n",
        "# Split our data\n",
        "train, test, train_labels, test_labels = train_test_split(stress_data_train, labels, test_size=0.33, random_state=30)\n",
        "\n"
      ],
      "metadata": {
        "id": "lNjgiazAcLE8"
      },
      "execution_count": 9,
      "outputs": []
    },
    {
      "cell_type": "code",
      "source": [
        "#Train the model using the training sets y_pred=clf.predict(X_test)\n",
        "random.fit(train, train_labels.values.ravel())\n",
        "\n",
        "prediction = random.predict(test)\n",
        "\n"
      ],
      "metadata": {
        "id": "lpAFrB0vcWK0"
      },
      "execution_count": 10,
      "outputs": []
    },
    {
      "cell_type": "code",
      "source": [
        "f1score   = f1_score        (test_labels, prediction, average = 'macro')\n",
        "recall    = recall_score    (test_labels, prediction, average = 'macro')\n",
        "precision = precision_score (test_labels, prediction, average = 'macro')\n",
        "accuracy  = accuracy_score  (test_labels, prediction)"
      ],
      "metadata": {
        "id": "UVaJf-s3cb-L"
      },
      "execution_count": 11,
      "outputs": []
    },
    {
      "cell_type": "code",
      "source": [
        "print('acc =', accuracy)\n",
        "print('pre =', precision)\n",
        "print('recall =', recall) \n",
        "print('f1 =', f1score)"
      ],
      "metadata": {
        "colab": {
          "base_uri": "https://localhost:8080/"
        },
        "id": "Q7yrA9n9cgJc",
        "outputId": "ad7f8226-cf3e-4102-e368-580259f05a8d"
      },
      "execution_count": 12,
      "outputs": [
        {
          "output_type": "stream",
          "name": "stdout",
          "text": [
            "acc = 0.9520331141952764\n",
            "pre = 0.9525621293415343\n",
            "recall = 0.9330874390066094\n",
            "f1 = 0.9415412769324667\n"
          ]
        }
      ]
    },
    {
      "cell_type": "code",
      "source": [
        "import pandas as pd\n",
        "from sklearn.tree import DecisionTreeClassifier \n",
        "from sklearn.model_selection import train_test_split\n",
        "from sklearn import metrics "
      ],
      "metadata": {
        "id": "e3UbS94Ec13N"
      },
      "execution_count": 13,
      "outputs": []
    },
    {
      "cell_type": "code",
      "source": [
        "pip install -U scikit-learn\n"
      ],
      "metadata": {
        "colab": {
          "base_uri": "https://localhost:8080/"
        },
        "id": "xzsyJm11dKg2",
        "outputId": "c1e8b416-524d-4f81-a897-ccb1a922fbec"
      },
      "execution_count": 15,
      "outputs": [
        {
          "output_type": "stream",
          "name": "stdout",
          "text": [
            "Looking in indexes: https://pypi.org/simple, https://us-python.pkg.dev/colab-wheels/public/simple/\n",
            "Requirement already satisfied: scikit-learn in /usr/local/lib/python3.9/dist-packages (1.2.2)\n",
            "Requirement already satisfied: numpy>=1.17.3 in /usr/local/lib/python3.9/dist-packages (from scikit-learn) (1.22.4)\n",
            "Requirement already satisfied: threadpoolctl>=2.0.0 in /usr/local/lib/python3.9/dist-packages (from scikit-learn) (3.1.0)\n",
            "Requirement already satisfied: joblib>=1.1.1 in /usr/local/lib/python3.9/dist-packages (from scikit-learn) (1.2.0)\n",
            "Requirement already satisfied: scipy>=1.3.2 in /usr/local/lib/python3.9/dist-packages (from scikit-learn) (1.10.1)\n"
          ]
        }
      ]
    },
    {
      "cell_type": "code",
      "source": [
        "# Split our data\n",
        "train, test, train_labels, test_labels = train_test_split(stress_data_train, labels, test_size=0.33, random_state=30)\n",
        "\n",
        "clf = DecisionTreeClassifier()\n"
      ],
      "metadata": {
        "id": "xLiV1sgfcgxl"
      },
      "execution_count": 17,
      "outputs": []
    },
    {
      "cell_type": "code",
      "source": [
        "clf.fit(train, train_labels.values.ravel())\n",
        "\n",
        "prediction = clf.predict(test)"
      ],
      "metadata": {
        "id": "SPfheV24dD1I"
      },
      "execution_count": 18,
      "outputs": []
    },
    {
      "cell_type": "code",
      "source": [
        "prediction"
      ],
      "metadata": {
        "colab": {
          "base_uri": "https://localhost:8080/"
        },
        "id": "U_iyoNZkdpIF",
        "outputId": "853427f6-02bb-4240-ddd6-07e48edd886f"
      },
      "execution_count": 19,
      "outputs": [
        {
          "output_type": "execute_result",
          "data": {
            "text/plain": [
              "array([2., 2., 2., ..., 0., 0., 2.])"
            ]
          },
          "metadata": {},
          "execution_count": 19
        }
      ]
    },
    {
      "cell_type": "code",
      "source": [
        "f1score2   = f1_score        (test_labels, prediction, average = 'macro')\n",
        "recall2   = recall_score    (test_labels, prediction, average = 'macro')\n",
        "precision2 = precision_score (test_labels, prediction, average = 'macro')\n",
        "accuracy2  = accuracy_score  (test_labels, prediction)"
      ],
      "metadata": {
        "id": "NVhIkHvmdsSU"
      },
      "execution_count": 20,
      "outputs": []
    },
    {
      "cell_type": "code",
      "source": [
        "print('accuracy =', accuracy2)\n",
        "print('precision =', precision2)\n",
        "print('recall =', recall2) \n",
        "print('f1 score =', f1score2)"
      ],
      "metadata": {
        "colab": {
          "base_uri": "https://localhost:8080/"
        },
        "id": "2Rrp3MQ3d1M8",
        "outputId": "e245048f-199c-402d-c858-b5e036a16db8"
      },
      "execution_count": 21,
      "outputs": [
        {
          "output_type": "stream",
          "name": "stdout",
          "text": [
            "accuracy = 0.8862916971025079\n",
            "precision = 0.8653482299135741\n",
            "recall = 0.866950650580763\n",
            "f1 score = 0.8661199601865572\n"
          ]
        }
      ]
    },
    {
      "cell_type": "code",
      "source": [],
      "metadata": {
        "id": "FGTrXZOAeAR8"
      },
      "execution_count": null,
      "outputs": []
    }
  ]
}